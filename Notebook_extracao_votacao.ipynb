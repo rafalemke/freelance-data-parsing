{
 "cells": [
  {
   "cell_type": "code",
   "execution_count": null,
   "id": "dd5bbbf6",
   "metadata": {
    "vscode": {
     "languageId": "plaintext"
    }
   },
   "outputs": [],
   "source": [
    "import pdfplumber as pp\n",
    "import os\n",
    "from pdf2image import convert_from_path\n",
    "from PIL import Image\n",
    "import pytesseract\n",
    "import pandas as pd\n",
    "import cv2\n",
    "import numpy as np\n",
    "import re"
   ]
  },
  {
   "cell_type": "code",
   "execution_count": null,
   "id": "dea12e33",
   "metadata": {
    "vscode": {
     "languageId": "plaintext"
    }
   },
   "outputs": [],
   "source": [
    "folder_path = '..\\\\ListaVotacao'"
   ]
  },
  {
   "cell_type": "code",
   "execution_count": null,
   "id": "de8a19c7",
   "metadata": {
    "vscode": {
     "languageId": "plaintext"
    }
   },
   "outputs": [],
   "source": [
    "def rename_pdfs(folder_path, base_name='Pdf_ListaVotacao'):\n",
    "    # Listar todos os arquivos no diretório especificado\n",
    "    files = [f for f in os.listdir(folder_path) if f.endswith('.pdf')]\n",
    "    \n",
    "    # Ordenar os arquivos para garantir uma sequência consistente\n",
    "    files.sort()\n",
    "\n",
    "    # Iterar sobre os arquivos e renomear cada um\n",
    "    for i, filename in enumerate(files, start=1):\n",
    "        # Definir o novo nome usando o padrão 'Pdf_Lista_01', 'Pdf_Lista_02', etc.\n",
    "        new_name = f\"{base_name}_{i:02}.pdf\"  # :02 garante que o número tenha dois dígitos\n",
    "        old_path = os.path.join(folder_path, filename)\n",
    "        new_path = os.path.join(folder_path, new_name)\n",
    "\n",
    "        # Renomear o arquivo\n",
    "        os.rename(old_path, new_path)\n",
    "        print(f\"Renomeado: {filename} -> {new_name}\")\n",
    "\n",
    "\n",
    "\n",
    "rename_pdfs(folder_path)"
   ]
  },
  {
   "cell_type": "code",
   "execution_count": null,
   "id": "041e7767",
   "metadata": {
    "vscode": {
     "languageId": "plaintext"
    }
   },
   "outputs": [],
   "source": [
    "# Extrair dados do pdf\n",
    "\n",
    "\n",
    "def preprocess_image(image):\n",
    "    # Converter para escala de cinza\n",
    "    gray = cv2.cvtColor(np.array(image), cv2.COLOR_RGB2GRAY)\n",
    "    \n",
    "    # Aplicar binarização (thresholding)\n",
    "    _, binary = cv2.threshold(gray, 150, 255, cv2.THRESH_BINARY)\n",
    "    \n",
    "    # Remover ruído (opcional)\n",
    "    denoised = cv2.fastNlMeansDenoising(binary, None, 30, 7, 21)\n",
    "    \n",
    "    # Converter de volta para uma imagem PIL para usar com pytesseract\n",
    "    processed_image = Image.fromarray(denoised).rotate(270, expand=True)\n",
    "    \n",
    "    return processed_image\n",
    "\n",
    "\n",
    "def extract_text_with_ocr(pdf_path):\n",
    "    text_dict = {}\n",
    "    # Converter cada página do PDF em imagem\n",
    "    pages = convert_from_path(pdf_path, dpi=850, first_page=1, last_page=10)\n",
    "    for i, page in enumerate(pages, start=1):\n",
    "        # Pré-processar a imagem\n",
    "        preprocessed_page = preprocess_image(page)\n",
    "        \n",
    "        # Usar OCR para extrair texto da imagem processada\n",
    "        page_text = pytesseract.image_to_string(preprocessed_page)\n",
    "        \n",
    "        # Aplicar a substituição, se necessário\n",
    "        # page_text = re.sub(r'-\\s*[A-Za-z]+/[A-Za-z]+\\s+\\d{2,5}', '- 000.000.000-00', page_text)\n",
    "        \n",
    "        # Dividir o texto da página em linhas\n",
    "        linhas = page_text.split(\"\\n\")\n",
    "        \n",
    "        # Filtrar para remover as duas primeiras linhas e a última\n",
    "        linhas_filtradas = linhas\n",
    "        \n",
    "        # Adicionar as linhas filtradas ao dicionário com a página como chave\n",
    "        text_dict[f'pagina_{i}'] = linhas_filtradas\n",
    "    \n",
    "    return text_dict\n",
    "\n",
    "def remover_itens_em_branco(dados):\n",
    "    # Itera sobre cada chave e valor no dicionário\n",
    "    for pagina, conteudo in dados.items():\n",
    "        # Filtra os itens em branco\n",
    "        dados[pagina] = [item for item in conteudo if item]\n",
    "    return dados\n",
    "\n",
    "\n",
    "# Chamando a função para remover itens em branco\n",
    "\n",
    "# Caminho do PDF\n",
    "pdf_path = f'{folder_path}/Pdf_ListaVotacao_01.pdf'\n",
    "text = extract_text_with_ocr(pdf_path)\n",
    "text = remover_itens_em_branco(text)"
   ]
  },
  {
   "cell_type": "code",
   "execution_count": null,
   "id": "757119ad",
   "metadata": {
    "vscode": {
     "languageId": "plaintext"
    }
   },
   "outputs": [],
   "source": [
    "################## EXTRAIR NOME E CPF #########################\n",
    "\n",
    "# Regex para capturar linhas no formato \"NOME - CPF/OUTRO\"\n",
    "nome_cpf_pattern = re.compile(r'^.+? - .+$')\n",
    "\n",
    "# Lista para armazenar os nomes extraídos\n",
    "nomes = []\n",
    "\n",
    "# Iterar sobre as linhas processadas\n",
    "for line in resultados:\n",
    "    match = nome_cpf_pattern.search(line)\n",
    "    if match:\n",
    "        # Capturar o nome completo com o padrão e remover espaços e hífens desnecessários\n",
    "        nome = match.group().rstrip(' -')\n",
    "        nomes.append(nome)\n",
    "\n",
    "# Exibindo os nomes de interesse (exemplo: do índice 60 ao 90)\n",
    "for nome in nomes:\n",
    "    print(nome)\n",
    "\n",
    "# Total de nomes encontrados\n",
    "print(f\"Total de nomes encontrados: {len(nomes)}\")"
   ]
  },
  {
   "cell_type": "code",
   "execution_count": null,
   "id": "f35d38a3",
   "metadata": {
    "vscode": {
     "languageId": "plaintext"
    }
   },
   "outputs": [],
   "source": [
    "####################### EXTRAIR CLASSE ######################\n",
    "\n",
    "classe_pattern = re.compile(r'\\bTrabalhista|Quirografarios|ME e EPP\\b')\n",
    "\n",
    "\n",
    "# Lista para armazenar as classes encontradas\n",
    "classes = []\n",
    "\n",
    "for page, lines in text.items():\n",
    "    for line in lines:\n",
    "        match = classe_pattern.search(line)\n",
    "        if match:\n",
    "            classe = match.group()\n",
    "            classes.append(classe)\n",
    "\n",
    "# Exibindo o resultado\n",
    "print(classes)\n",
    "print(f\"Total de ocorrências da classe 'Trabalhista': {len(classes)}\")"
   ]
  },
  {
   "cell_type": "code",
   "execution_count": null,
   "id": "bc53aa60",
   "metadata": {
    "vscode": {
     "languageId": "plaintext"
    }
   },
   "outputs": [],
   "source": [
    "####################### EXTRAIR VOTO ####################\n",
    "\n",
    "voto_pattern = re.compile(r'\\b(Rejeita|Abstém|Aprova|Abstem|Abstéem)\\b')\n",
    "\n",
    "votos = []\n",
    "for page, lines in text.items():\n",
    "    for line in lines:\n",
    "        match = voto_pattern.search(line)\n",
    "        if match:\n",
    "            voto = match.group()\n",
    "            votos.append(voto)\n",
    "\n",
    "# Exibindo o resultado\n",
    "print(votos)\n",
    "print(f\"Total de nomes encontrados: {len(votos)}\")"
   ]
  },
  {
   "cell_type": "code",
   "execution_count": null,
   "id": "60caba8a",
   "metadata": {
    "vscode": {
     "languageId": "plaintext"
    }
   },
   "outputs": [],
   "source": [
    "##################### EXTRAIR DATAS ####################\n",
    "\n",
    "data_patter = re.compile(r'\\b\\d{2}/\\d{2}/\\d{4} \\d{2}:\\d{2}:\\d{2}\\b')\n",
    "\n",
    "datas = []\n",
    "for page, lines in text.items():\n",
    "    for line in lines:\n",
    "        match = data_patter.search(line)\n",
    "        if match:\n",
    "            data = match.group()\n",
    "            datas.append(data)\n",
    "\n",
    "# Exibindo o resultado\n",
    "print(datas)\n",
    "print(f\"Total de nomes encontrados: {len(datas)}\")"
   ]
  },
  {
   "cell_type": "code",
   "execution_count": null,
   "id": "f19fb7ad",
   "metadata": {
    "vscode": {
     "languageId": "plaintext"
    }
   },
   "outputs": [],
   "source": [
    "########################## EXPORTAR TABELA #########################\n",
    "\n",
    "dados = {\n",
    "    \"Nome\": nomes, \n",
    "    \"Classe\": classes, \n",
    "    \"Voto\": votos, \n",
    "    \"Data\":datas\n",
    "    }\n",
    "\n",
    "tabela = pd.DataFrame(dados)\n",
    "\n",
    "\n",
    "tabela.to_excel('..\\\\TabelaVotacaoFull.xlsx')"
   ]
  }
 ],
 "metadata": {
  "language_info": {
   "name": "python"
  }
 },
 "nbformat": 4,
 "nbformat_minor": 5
}
