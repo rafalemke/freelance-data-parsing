{
 "cells": [
  {
   "cell_type": "code",
   "execution_count": 1,
   "metadata": {
    "executionInfo": {
     "elapsed": 3,
     "status": "ok",
     "timestamp": 1737054517224,
     "user": {
      "displayName": "Rafael Lemke",
      "userId": "12186252473410406628"
     },
     "user_tz": 180
    },
    "id": "czQ4mtdu3XjI"
   },
   "outputs": [],
   "source": [
    "import pandas as pd\n"
   ]
  },
  {
   "cell_type": "code",
   "execution_count": null,
   "metadata": {
    "id": "Yg-zIbcT34g-"
   },
   "outputs": [],
   "source": [
    "votacao = pd.read_excel('../TabelaVotacaoFull.xlsx')\n",
    "presenca = pd.read_excel('..TabelaPresencaFull.xlsx')"
   ]
  },
  {
   "cell_type": "code",
   "execution_count": null,
   "metadata": {},
   "outputs": [],
   "source": [
    "votacao.head()"
   ]
  },
  {
   "cell_type": "code",
   "execution_count": null,
   "metadata": {
    "id": "XUS8OK3RiDQh"
   },
   "outputs": [],
   "source": [
    "votacao.rename(columns={'CPF Full': 'CPF'}, inplace=True)\n",
    "\n",
    "# Remover os caracteres '-' e '/' da coluna 'CPF Full'\n",
    "votacao['CPF'] = votacao['CPF'].str.replace(r'[-/,.]', '', regex=True)\n",
    "votacao['Nome'] = votacao['Nome'].str.replace(r'\\|', 'I', regex=True)"
   ]
  },
  {
   "cell_type": "code",
   "execution_count": null,
   "metadata": {
    "colab": {
     "base_uri": "https://localhost:8080/",
     "height": 930
    },
    "executionInfo": {
     "elapsed": 273,
     "status": "ok",
     "timestamp": 1736887766390,
     "user": {
      "displayName": "Rafael Lemke",
      "userId": "12186252473410406628"
     },
     "user_tz": 180
    },
    "id": "dnlqo_Nhi9Bk",
    "outputId": "c9854f6f-261f-4645-d23b-618b45a1a38f"
   },
   "outputs": [],
   "source": [
    "presenca.head()"
   ]
  },
  {
   "cell_type": "code",
   "execution_count": null,
   "metadata": {
    "id": "Kf7iJ_WRlDGK"
   },
   "outputs": [],
   "source": [
    "presenca.rename(columns={'Documento': 'CPF'}, inplace=True)\n",
    "\n",
    "# Remover os caracteres '-' e '/' da coluna 'CPF Full'\n",
    "presenca['CPF'] = presenca['CPF'].str.replace(r'[-/,.]', '', regex=True)\n",
    "presenca['Nome'] = presenca['Nome'].str.replace(r'\\|', 'I', regex=True)"
   ]
  },
  {
   "cell_type": "code",
   "execution_count": null,
   "metadata": {
    "id": "_OXxwzganFNK"
   },
   "outputs": [],
   "source": [
    "from rapidfuzz import fuzz, process"
   ]
  },
  {
   "cell_type": "code",
   "execution_count": null,
   "metadata": {
    "colab": {
     "base_uri": "https://localhost:8080/"
    },
    "executionInfo": {
     "elapsed": 26787,
     "status": "ok",
     "timestamp": 1736888388428,
     "user": {
      "displayName": "Rafael Lemke",
      "userId": "12186252473410406628"
     },
     "user_tz": 180
    },
    "id": "A0IynCdBnPOT",
    "outputId": "fc6cd42f-69a0-49cc-87df-e72e993b3e4c"
   },
   "outputs": [],
   "source": [
    "def fuzzy_join(df1, df2, key1, key2, threshold=90):\n",
    "    matches = []\n",
    "    for idx, value in df1[key1].items():\n",
    "        # Encontrar a melhor correspondência para cada valor\n",
    "        best_match = process.extractOne(value, df2[key2], scorer=fuzz.token_sort_ratio)\n",
    "        if best_match and best_match[1] >= threshold:  # Similaridade acima do limite\n",
    "            matched_idx = df2[df2[key2] == best_match[0]].index[0]\n",
    "            matches.append((idx, matched_idx))\n",
    "    return matches\n",
    "\n",
    "# Realizar o join com base na similaridade de nomes\n",
    "matches = fuzzy_join(presenca, votacao, key1='Nome', key2='Nome', threshold=90)\n",
    "\n",
    "# Unir os DataFrames com base nas correspondências\n",
    "presenca['match_index'] = None\n",
    "for pres_idx, vot_idx in matches:\n",
    "    presenca.loc[pres_idx, 'match_index'] = vot_idx\n",
    "\n",
    "result = presenca.merge(votacao, left_on='match_index', right_index=True, how='left')\n",
    "result.drop(columns=['match_index'], inplace=True)\n",
    "\n",
    "# Exibir o resultado\n",
    "print(result)"
   ]
  },
  {
   "cell_type": "code",
   "execution_count": null,
   "metadata": {
    "id": "zVjtGraMnjRD"
   },
   "outputs": [],
   "source": [
    "result.to_excel(\"resultado_limpo.xlsx\", index=False)"
   ]
  }
 ],
 "metadata": {
  "colab": {
   "authorship_tag": "ABX9TyNFAOtlaMPKETQajAlf/SZw",
   "mount_file_id": "1xunOQ-Njk549Roj4ifAsfKV6npd4zhw9",
   "provenance": []
  },
  "kernelspec": {
   "display_name": "Python 3 (ipykernel)",
   "language": "python",
   "name": "python3"
  },
  "language_info": {
   "codemirror_mode": {
    "name": "ipython",
    "version": 3
   },
   "file_extension": ".py",
   "mimetype": "text/x-python",
   "name": "python",
   "nbconvert_exporter": "python",
   "pygments_lexer": "ipython3",
   "version": "3.12.7"
  }
 },
 "nbformat": 4,
 "nbformat_minor": 4
}
